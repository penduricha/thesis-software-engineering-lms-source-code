{
 "cells": [
  {
   "cell_type": "code",
   "execution_count": null,
   "metadata": {
    "vscode": {
     "languageId": "plaintext"
    }
   },
   "outputs": [],
   "source": [
    "import tkinter as tk\n",
    "import requests\n",
    "\n",
    "class PoeChatApp:\n",
    "    def __init__(self, root):\n",
    "        self.root = root\n",
    "        self.root.title(\"Chat với Poe AI\")\n",
    "\n",
    "        self.chat_area = tk.Text(root, state='disabled', width=50, height=20)\n",
    "        self.chat_area.pack(pady=10)\n",
    "\n",
    "        self.message_entry = tk.Entry(root, width=50)\n",
    "        self.message_entry.pack(pady=10)\n",
    "\n",
    "        self.send_button = tk.Button(root, text=\"Gửi\", command=self.send_message)\n",
    "        self.send_button.pack(pady=5)\n",
    "\n",
    "    def send_message(self):\n",
    "        user_message = self.message_entry.get()\n",
    "        self.message_entry.delete(0, tk.END)\n",
    "        \n",
    "        if user_message:\n",
    "            self.display_message(\"Bạn: \" + user_message)\n",
    "            response = self.get_response_from_poe(user_message)\n",
    "            self.display_message(\"Poe: \" + response)\n",
    "\n",
    "    def display_message(self, message):\n",
    "        self.chat_area.config(state='normal')\n",
    "        self.chat_area.insert(tk.END, message + \"\\n\")\n",
    "        self.chat_area.config(state='disabled')\n",
    "        self.chat_area.see(tk.END)\n",
    "\n",
    "    def get_response_from_poe(self, message):\n",
    "        # Thay thế URL và thông tin cần thiết cho API Poe\n",
    "        url = \"https://api.poe.com/send_message\"\n",
    "        payload = {\"message\": message}\n",
    "        headers = {\"Authorization\": \"Bearer YOUR_API_KEY\"}\n",
    "\n",
    "        try:\n",
    "            response = requests.post(url, json=payload, headers=headers)\n",
    "            response_data = response.json()\n",
    "            return response_data.get(\"response\", \"Không có phản hồi\")\n",
    "        except Exception as e:\n",
    "            return f\"Lỗi: {str(e)}\"\n",
    "\n",
    "if __name__ == \"__main__\":\n",
    "    root = tk.Tk()\n",
    "    app = PoeChatApp(root)\n",
    "    root.mainloop()"
   ]
  }
 ],
 "metadata": {
  "language_info": {
   "name": "python"
  }
 },
 "nbformat": 4,
 "nbformat_minor": 2
}
